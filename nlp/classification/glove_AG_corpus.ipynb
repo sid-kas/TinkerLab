{
 "nbformat": 4,
 "nbformat_minor": 2,
 "metadata": {
  "language_info": {
   "name": "python",
   "codemirror_mode": {
    "name": "ipython",
    "version": 3
   },
   "version": "3.6.9-final"
  },
  "orig_nbformat": 2,
  "file_extension": ".py",
  "mimetype": "text/x-python",
  "name": "python",
  "npconvert_exporter": "python",
  "pygments_lexer": "ipython3",
  "version": 3,
  "kernelspec": {
   "name": "python36964bitec6d23a391154d7aa08186d058c935ab",
   "display_name": "Python 3.6.9 64-bit"
  }
 },
 "cells": [
  {
   "source": [
    "# Imports\n",
    "import os, sys"
   ],
   "cell_type": "code",
   "outputs": [],
   "metadata": {},
   "execution_count": 1
  },
  {
   "source": [
    "# Download Data \n",
    "!wget http://ai.stanford.edu/~amaas/data/sentiment/aclImdb_v1.tar.gz"
   ],
   "cell_type": "code",
   "outputs": [
    {
     "output_type": "stream",
     "name": "stdout",
     "text": "--2020-02-13 15:47:56--  http://ai.stanford.edu/~amaas/data/sentiment/aclImdb_v1.tar.gz\nResolving ai.stanford.edu (ai.stanford.edu)... 171.64.68.10\nConnecting to ai.stanford.edu (ai.stanford.edu)|171.64.68.10|:80...connected.\nHTTP request sent, awaiting response...200 OK\nLength: 84125825 (80M) [application/x-gzip]\nSaving to: ‘aclImdb_v1.tar.gz’\n\naclImdb_v1.tar.gz   100%[===================>]  80.23M  16.0MB/s    in 7.2s    \n\n2020-02-13 15:48:04 (11.2 MB/s) - ‘aclImdb_v1.tar.gz’ saved [84125825/84125825]\n\n"
    }
   ],
   "metadata": {},
   "execution_count": 3
  },
  {
   "source": [
    "# extract Data \n",
    "!tar x -f aclImdb_v1.tar.gz\n",
    "!ls -lah\n",
    "!ls -lah aclImdb/"
   ],
   "cell_type": "code",
   "outputs": [
    {
     "output_type": "stream",
     "name": "stdout",
     "text": "total 314M\ndrwxr-xr-x 3 coder coder 4.0K Feb 13 15:52 .\ndrwxr-xr-x 7 coder coder 4.0K Feb 13 14:50 ..\ndrwxr-xr-x 4 coder coder 4.0K Jun 26  2011 aclImdb\n-rw-r--r-- 1 coder coder  81M Jun 26  2011 aclImdb_v1.tar.gz\n-rw-r--r-- 1 coder coder    8 Feb 13 15:52 .gitignore\n-rw-r--r-- 1 coder coder 1.8K Feb 13 16:33 glove_AG_corpus.ipynb\n-rw-r--r-- 1 coder coder 234M Jun 26  2007 newsspace200.xml\n-rw-r--r-- 1 coder coder 110K Feb 13 14:51 nlp_keras.ipynb\ntotal 1.7M\ndrwxr-xr-x 4 coder coder 4.0K Jun 26  2011 .\ndrwxr-xr-x 3 coder coder 4.0K Feb 13 15:52 ..\n-rw-r--r-- 1 coder coder 882K Jun 11  2011 imdbEr.txt\n-rw-r--r-- 1 coder coder 827K Apr 12  2011 imdb.vocab\n-rw-r--r-- 1 coder coder 4.0K Jun 26  2011 README\ndrwxr-xr-x 4 coder coder 4.0K Feb 13 16:33 test\ndrwxr-xr-x 5 coder coder 4.0K Feb 13 16:33 train\n"
    }
   ],
   "metadata": {},
   "execution_count": 3
  },
  {
   "cell_type": "code",
   "execution_count": null,
   "metadata": {},
   "outputs": [],
   "source": []
  }
 ]
}